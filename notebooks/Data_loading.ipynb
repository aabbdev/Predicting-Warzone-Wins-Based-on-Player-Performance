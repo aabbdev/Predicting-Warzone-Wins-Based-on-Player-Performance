{
 "cells": [
  {
   "cell_type": "markdown",
   "metadata": {},
   "source": [
    "### Data Loading\n",
    "\n",
    "The scraped data was saved as dictionaries and exported as .pkl files. The data files can be found within the data folder. Each file is labelled with the platform and features indicating what data is saved in each file.\n",
    "\n",
    "Goal: Load all the data files into one master data frame.\n",
    "\n",
    "Refer to https://stackoverflow.com/questions/30898038/python-run-script-on-multiple-files for running script on multiple files"
   ]
  },
  {
   "cell_type": "code",
   "execution_count": 1,
   "metadata": {},
   "outputs": [],
   "source": [
    "#libraries\n",
    "import pickle\n",
    "import pandas as pd\n",
    "from tqdm import tqdm"
   ]
  },
  {
   "cell_type": "markdown",
   "metadata": {},
   "source": [
    "Note: scraped data from 2 different websites.\n",
    "- files starting with 'all' were scraped from **cdst**\n",
    "- files starting with 'psn', 'xbl', or 'battlenet' were scraped from **cdtr**\n",
    "\n",
    "They may require different ways to join together. Let's experiment first with cdtr."
   ]
  },
  {
   "cell_type": "code",
   "execution_count": 3,
   "metadata": {},
   "outputs": [],
   "source": [
    "#getting psn Kills from cdtr\n",
    "with open('../data/psn_Kills.pkl', 'rb') as file:\n",
    "    psn_Kills = pickle.load(file)"
   ]
  },
  {
   "cell_type": "code",
   "execution_count": 4,
   "metadata": {},
   "outputs": [
    {
     "data": {
      "text/plain": [
       "831249"
      ]
     },
     "execution_count": 4,
     "metadata": {},
     "output_type": "execute_result"
    }
   ],
   "source": [
    "#how many players?\n",
    "len(psn_Kills)"
   ]
  },
  {
   "cell_type": "code",
   "execution_count": 6,
   "metadata": {},
   "outputs": [],
   "source": [
    "#lets get psn Wins as well\n",
    "with open('../data/psn_Wins.pkl', 'rb') as file:\n",
    "    psn_Wins = pickle.load(file)"
   ]
  },
  {
   "cell_type": "code",
   "execution_count": 7,
   "metadata": {},
   "outputs": [
    {
     "data": {
      "text/plain": [
       "635033"
      ]
     },
     "execution_count": 7,
     "metadata": {},
     "output_type": "execute_result"
    }
   ],
   "source": [
    "#how many players?\n",
    "len(psn_Wins)"
   ]
  },
  {
   "cell_type": "markdown",
   "metadata": {},
   "source": [
    "Missing about 200,000 psn players between Wins and Kills - not ideal.\n",
    "\n",
    "Let's try to merge them."
   ]
  },
  {
   "cell_type": "code",
   "execution_count": 8,
   "metadata": {},
   "outputs": [
    {
     "data": {
      "text/plain": [
       "{'platform': 'psn', 'wins': 1225, 'mp': 2785}"
      ]
     },
     "execution_count": 8,
     "metadata": {},
     "output_type": "execute_result"
    }
   ],
   "source": [
    "#using player TTV-Scop3s_ as an example\n",
    "psn_Wins['TTV-Scop3s_']"
   ]
  },
  {
   "cell_type": "code",
   "execution_count": 9,
   "metadata": {},
   "outputs": [
    {
     "data": {
      "text/plain": [
       "{'platform': 'psn', 'Kills': '26,580'}"
      ]
     },
     "execution_count": 9,
     "metadata": {},
     "output_type": "execute_result"
    }
   ],
   "source": [
    "psn_Kills['TTV-Scop3s_']"
   ]
  },
  {
   "cell_type": "code",
   "execution_count": 10,
   "metadata": {},
   "outputs": [],
   "source": [
    "#get a copy of psn_Wins\n",
    "df_dict = psn_Wins.copy()"
   ]
  },
  {
   "cell_type": "code",
   "execution_count": 11,
   "metadata": {},
   "outputs": [
    {
     "name": "stderr",
     "output_type": "stream",
     "text": [
      "100%|██████████████████████████████████████████████████████████████████████| 831249/831249 [00:01<00:00, 744169.87it/s]\n"
     ]
    }
   ],
   "source": [
    "#need to add kills to wins\n",
    "\n",
    "for player, stat in tqdm(psn_Kills.items()):\n",
    "    #check if player is in df_dict and platforms are the same (now dealing with only psn but will be needed later)\n",
    "    if player in df_dict and df_dict[player]['platform'] == psn_Kills[player]['platform']:\n",
    "        #add kills to df_dict\n",
    "        df_dict[player]['Kills'] = stat['Kills']\n",
    "    #if not in dict, add them in\n",
    "    else:\n",
    "        df_dict[player] = {'platform': stat['platform'], 'Kills': stat['Kills']}"
   ]
  },
  {
   "cell_type": "code",
   "execution_count": 12,
   "metadata": {
    "scrolled": true
   },
   "outputs": [
    {
     "data": {
      "text/plain": [
       "{'platform': 'psn', 'wins': 1225, 'mp': 2785, 'Kills': '26,580'}"
      ]
     },
     "execution_count": 12,
     "metadata": {},
     "output_type": "execute_result"
    }
   ],
   "source": [
    "#check if kills were added to our example player\n",
    "df_dict['TTV-Scop3s_']"
   ]
  },
  {
   "cell_type": "markdown",
   "metadata": {},
   "source": [
    "##### Next Steps\n",
    "\n",
    "- check how to add cdst data in df_dict\n",
    "- build script to go through each pkl file and add it to a master dictionary\n",
    "- load dictionary containing all the player data into a pandas dataframe for data cleaning"
   ]
  }
 ],
 "metadata": {
  "kernelspec": {
   "display_name": "Python 3",
   "language": "python",
   "name": "python3"
  },
  "language_info": {
   "codemirror_mode": {
    "name": "ipython",
    "version": 3
   },
   "file_extension": ".py",
   "mimetype": "text/x-python",
   "name": "python",
   "nbconvert_exporter": "python",
   "pygments_lexer": "ipython3",
   "version": "3.7.4"
  }
 },
 "nbformat": 4,
 "nbformat_minor": 4
}
